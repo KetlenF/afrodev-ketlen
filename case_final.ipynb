{
  "nbformat": 4,
  "nbformat_minor": 0,
  "metadata": {
    "colab": {
      "name": "alelo.ipynb",
      "provenance": [],
      "authorship_tag": "ABX9TyPOeePKgaMdpIQ80NoEt+zh",
      "include_colab_link": true
    },
    "kernelspec": {
      "name": "python3",
      "display_name": "Python 3"
    },
    "language_info": {
      "name": "python"
    }
  },
  "cells": [
    {
      "cell_type": "markdown",
      "metadata": {
        "id": "view-in-github",
        "colab_type": "text"
      },
      "source": [
        "<a href=\"https://colab.research.google.com/github/KetlenF/afrodev-ketlen/blob/main/case_final.ipynb\" target=\"_parent\"><img src=\"https://colab.research.google.com/assets/colab-badge.svg\" alt=\"Open In Colab\"/></a>"
      ]
    },
    {
      "cell_type": "code",
      "metadata": {
        "id": "DqBsteVwQrpm"
      },
      "source": [
        "import pandas as pd\n",
        "import numpy as np\n",
        "import plotly.express as px\n",
        "import matplotlib.pyplot as plt\n",
        "import seaborn as sns\n",
        "import plotly.graph_objects as go\n",
        "import plotly.offline as py"
      ],
      "execution_count": 280,
      "outputs": []
    },
    {
      "cell_type": "code",
      "metadata": {
        "id": "CNtI9EgwQ06B"
      },
      "source": [
        "# Entrada dos dados\n",
        "df_atleta = pd.read_excel(\"dados/Athletes.xlsx\")\n",
        "df_treinadores = pd.read_excel(\"dados/Coaches.xlsx\")\n",
        "df_genero_modalidade = pd.read_excel(\"dados/EntriesGender.xlsx\")\n",
        "df_medalhas = pd.read_excel(\"dados/Medals.xlsx\")\n",
        "df_times = pd.read_excel(\"dados/Teams.xlsx\")"
      ],
      "execution_count": 296,
      "outputs": []
    },
    {
      "cell_type": "code",
      "metadata": {
        "id": "e7QthYGzmWnH"
      },
      "source": [
        "# Seção de Mensagens - Intro Informações Gerais DataFrame\n",
        "\n",
        "msg_intro_primeiras_linhas = \"\\n* Primeiras 5 linhas do Data Frame\\n\"\n",
        "msg_intro_ultimas_linhas = \"\\n* Últimas 5 linhas do Data Frame\\n\"\n",
        "msg_linhas_colunas = f\"\\n* Número de Linhas e Colunas: \"\n",
        "msg_info_geral = \"\\n* Informações Gerais:\\n\""
      ],
      "execution_count": 272,
      "outputs": []
    },
    {
      "cell_type": "code",
      "metadata": {
        "id": "A9onTzvHQ-tJ"
      },
      "source": [
        "# Opções dos Menus para cada DataFrame\n",
        "\n",
        "def menu_atleta():\n",
        "  print(\"### Menu Atleta ###\")\n",
        "  print(\"1. Visão Geral do Data Frame\")\n",
        "  print(\"2. Total de atletas participantes.\")\n",
        "  print(\"3. Total de participantes por esporte.\")\n",
        "  print(\"*4. Questão Extra: Participantes em mais de 1 esporte*\")\n",
        "\n",
        "def menu_medalhas():\n",
        "  print(\"### Menu Medalhas ###\")\n",
        "  print(\"1. Visão Geral do Data Frame\")\n",
        "  print(\"2. Total de medalhas por país.\")\n",
        "  print(\"3. Ranking por medalhas totais. \")\n",
        "  print(\"4. País com mais medalhas de ouro.\")\n",
        "  print(\"5. País com mais medalhas de prata.\")\n",
        "  print(\"6. País com mais medalhas de bronze.\")\n",
        "  print(\"7. País com menos medalhas de ouro. \")\n",
        "  print(\"8. País com menos medalhas de prata.\")\n",
        "  print(\"9. País com menos medalhas de bronze.\")\n",
        "\n",
        "def menu_genero():\n",
        "  print(\"### Menu Genero ###\")\n",
        "  print(\"1. Visão Geral do Data Frame\")\n",
        "  print(\"2. Total de participantes homens.\")\n",
        "  print(\"3. Total de participantes mulheres. \")\n",
        "  print(\"4. Lista com esportes participantes.\")\n",
        "  print(\"5. Lista de esportes com mais homens que mulheres.\")\n",
        "  print(\"6. Lista de esportes com mais mulheres que homens. \")\n",
        "\n",
        "def menu_treinadores():\n",
        "  print(\"### Menu Treinadores ###\")\n",
        "  print(\"1. Visão Geral do Data Frame\")\n",
        "  print(\"2. Quantidade de treinadores por país.\")\n",
        "  print(\"3. País com a maior quantidade de treinadores \")\n",
        "  print(\"4. Quantidade de treinadores por esporte.\")\n",
        "\n",
        "def menu_times():\n",
        "  print(\"### Menu Times ###\")\n",
        "  print(\"1. Visão Geral do Data Frame\")\n",
        "  print(\"2. Quanto times por esporte cada país tem.\")\n",
        "\n",
        "\n",
        "def menu_principal():\n",
        "  print(\"### Menu Principal ###\")\n",
        "  print(\"1. Atletas\")  \n",
        "  print(\"2. Medalhas\")\n",
        "  print(\"3. Genero e Esportes\")  \n",
        "  print(\"4. Treinadores\") \n",
        "  print(\"5. Times\")   \n",
        "\n",
        "\n",
        "# Função para Validação das opções digitadas pelo Usuário\n",
        "def validacao():\n",
        "  global opcao\n",
        "  while True:\n",
        "    opcao = input(\"\\nQual informação deseja visualizar? \")\n",
        "    try:\n",
        "      opcao = int(opcao)\n",
        "      break\n",
        "    except ValueError:\n",
        "      if opcao != opcao.isnumeric(): # se partidas for diferente de numerico, faça\n",
        "        print(\"Dado Inválido\")\n",
        "      else:\n",
        "        break\n"
      ],
      "execution_count": 273,
      "outputs": []
    },
    {
      "cell_type": "markdown",
      "metadata": {
        "id": "8zs2E6kbXXqU"
      },
      "source": [
        "##Atletas"
      ]
    },
    {
      "cell_type": "code",
      "metadata": {
        "id": "hpxJNhetTIJX"
      },
      "source": [
        "# Funções DF Atleta\n",
        "\n",
        "def atletas_geral(df_atleta):\n",
        "\n",
        "  def info_atletas(df_atleta): # Informações Gerais\n",
        "    print(\"\\n## Visão geral do Data Frame: Athletes ##\")\n",
        "    print(msg_intro_primeiras_linhas)\n",
        "    print(df_atleta.head())\n",
        "    print(msg_intro_ultimas_linhas)\n",
        "    print(df_atleta.tail()) \n",
        "    print(msg_linhas_colunas, df_atleta.shape)\n",
        "    print(msg_info_geral)\n",
        "    df_atleta.info()\n",
        "\n",
        "  def atletas_duplicados(df_atleta): # Atletas com o mesmo nome no df\n",
        "    nome = df_atleta[\"Name\"]\n",
        "    print()\n",
        "    print(df_atleta[nome.isin(nome[nome.duplicated()])])\n",
        "\n",
        "  # chamada das funcoes de menu de opcoes e validacao de entrada\n",
        "  menu_atleta()\n",
        "  validacao()\n",
        "\n",
        "  if (opcao == 1): # Menu de Seleção\n",
        "    info_atletas(df_atleta)\n",
        "  elif(opcao == 2): \n",
        "    print(f'\\nAo todo, {df_atleta.shape[0]} atletas participaram da competição')\n",
        "  elif(opcao == 3): \n",
        "    print( df_atleta.groupby(['Discipline']).size())\n",
        "  elif (opcao == 4):\n",
        "    atletas_duplicados(df_atleta)\n",
        "  else:\n",
        "    print(\"Opcao Inexistente\")"
      ],
      "execution_count": 274,
      "outputs": []
    },
    {
      "cell_type": "markdown",
      "metadata": {
        "id": "TruCJQ0dXjK2"
      },
      "source": [
        "## Medalhas"
      ]
    },
    {
      "cell_type": "code",
      "metadata": {
        "id": "uPTQWhk2Xktu"
      },
      "source": [
        "# Funções DF Medalhas\n",
        "\n",
        "def medalhas_geral(df_medalhas):\n",
        "\n",
        "  def info_medalhas(df_medalhas): # Informações Gerais\n",
        "      print(\"\\n## Visão geral do Data Frame: Medals ##\")\n",
        "      print(msg_intro_primeiras_linhas)\n",
        "      print(df_medalhas.head())\n",
        "      print(msg_intro_ultimas_linhas)\n",
        "      print(df_medalhas.tail()) \n",
        "      print(msg_linhas_colunas, df_medalhas.shape)\n",
        "      print(msg_info_geral)\n",
        "      df_medalhas.info()\n",
        "\n",
        "  def total_medalhas(df_medalhas):  # Cria a coluna de soma 'Total de Medalhas'\n",
        "    df_medalhas[\"Total de Medalhas\"] = df_medalhas['Gold'] + df_medalhas['Silver'] + df_medalhas['Bronze']\n",
        "    print()\n",
        "    print( df_medalhas.sort_values(['Team/NOC']))\n",
        "\n",
        "  def ranking_med(df_medalhas): # Ordena o df pelo total de medalhas de cada pais\n",
        "    total_medalhas(df_medalhas)\n",
        "    ranking_medalhas = df_medalhas.sort_values(by=['Total de Medalhas'],ascending=False)\n",
        "    return ranking_medalhas\n",
        "  \n",
        "  def ouros(df_medalhas): # Ranking de medalhas de ouro\n",
        "    ranking_mais_ouro = df_medalhas.iloc[0]['Team/NOC']\n",
        "    mais_ouro = df_medalhas.iloc[0]['Gold']\n",
        "    print()\n",
        "    print(f\"O país com mais medalhas de ouro foi: {ranking_mais_ouro}, com um total de {mais_ouro} medalhas conquistadas\")\n",
        "\n",
        "  def prata(df_medalhas): # Ranking de medalhas de prata\n",
        "    ranking_mais_prata = df_medalhas.iloc[0]['Team/NOC']\n",
        "    mais_prata = df_medalhas.iloc[0]['Silver']\n",
        "    print()\n",
        "    print(f\"O país com mais medalhas de prata foi: {ranking_mais_prata}, com um total de {mais_prata} medalhas conquistadas\")\n",
        "  \n",
        "  def bronze(df_medalhas): # Ranking de medalhas de bronze\n",
        "    ranking_mais_bronze = df_medalhas.iloc[0]['Team/NOC']\n",
        "    mais_bronze = df_medalhas.iloc[0]['Bronze']\n",
        "    print()\n",
        "    print(f\"O país com mais medalhas de bronze foi: {ranking_mais_bronze}, com um total de {mais_bronze} medalhas conquistadas\")\n",
        "\n",
        "  # chamada das funcoes de menu de opcoes e validacao de entrada\n",
        "  menu_medalhas()\n",
        "  validacao()\n",
        "\n",
        "  if (opcao == 1):\n",
        "    info_medalhas(df_medalhas)\n",
        "  elif(opcao == 2): \n",
        "    total_medalhas(df_medalhas)\n",
        "  elif(opcao == 3): \n",
        "    ranking_med(df_medalhas)\n",
        "  elif(opcao == 4): \n",
        "    ouros(df_medalhas)\n",
        "  elif(opcao == 5): \n",
        "    prata(df_medalhas)\n",
        "  elif(opcao == 6): \n",
        "    bronze(df_medalhas)\n",
        "  elif(opcao == 7): \n",
        "    print(df_medalhas.sort_values(['Gold', 'Silver','Total de Medalhas'], ascending=[True, True, True])[:20]) # # Paises com menos medalhas de ouro (20)\n",
        "  elif(opcao == 8): \n",
        "    print(df_medalhas.sort_values(['Silver', 'Total de Medalhas'], ascending=[ True, True])[:20]) # Paises com menos medalhas de prata (20)\n",
        "  elif(opcao == 9): \n",
        "    print(df_medalhas.sort_values(['Bronze', 'Total de Medalhas',], ascending=[ True, True])[:20]) # Paises com menos medalhas de bronze (20)\n",
        "  else:\n",
        "    print(\"Opcao Inexistente\")"
      ],
      "execution_count": 275,
      "outputs": []
    },
    {
      "cell_type": "markdown",
      "metadata": {
        "id": "8nkigfabfYCJ"
      },
      "source": [
        "## Gênero"
      ]
    },
    {
      "cell_type": "code",
      "metadata": {
        "id": "KuIC8kvrfXQo"
      },
      "source": [
        "# Funções DF Genero\n",
        "\n",
        "def genero_geral(df_genero_modalidade):\n",
        "\n",
        "  def info_genero(df_genero_modalidade):  # Informações Gerais\n",
        "    print(\"\\n## Visão geral do Data Frame: EntriesGender ##\")\n",
        "    print(msg_intro_primeiras_linhas)\n",
        "    print(df_genero_modalidade.head())\n",
        "    print(msg_intro_ultimas_linhas)\n",
        "    print(df_genero_modalidade.tail()) \n",
        "    print(msg_linhas_colunas, df_genero_modalidade.shape)\n",
        "    print(msg_info_geral)\n",
        "    df_genero_modalidade.info()\n",
        "\n",
        "  def lista_mais_homens(df_genero_modalidade): # Retorna tabela com as info dos esportes que tem mais participantes masculinos\n",
        "    mais_homens = (df_genero_modalidade['Male'] > df_genero_modalidade['Female'])\n",
        "    print()\n",
        "    print(df_genero_modalidade.loc[mais_homens, ['Discipline', 'Male', 'Female']])\n",
        "  \n",
        "  def lista_mais_mulheres(df_genero_modalidade): # Retorna tabela com as info dos esportes que tem mais participantes masculinos\n",
        "    mais_mulheres = (df_genero_modalidade['Female'] > df_genero_modalidade['Male'])\n",
        "    print()\n",
        "    print(df_genero_modalidade.loc[mais_mulheres, ['Discipline', 'Female', 'Male']])\n",
        "  \n",
        "  # chamada das funcoes de menu de opcoes e validacao de entrada\n",
        "  menu_genero()\n",
        "  validacao()\n",
        "\n",
        "  if (opcao == 1):\n",
        "    info_genero(df_genero_modalidade)\n",
        "  elif(opcao == 2): \n",
        "    print(f\"\\nTotal de Participantes Homens: {df_genero_modalidade['Male'].sum()} atletas\") # Total de participantes homens\n",
        "  elif(opcao == 3): \n",
        "    print(f\"\\nTotal de Participantes Mulheres: {df_genero_modalidade['Female'].sum()} atletas\") # Total de participantes homens\n",
        "  elif (opcao == 4):\n",
        "    print()\n",
        "    print(df_genero_modalidade.loc[0:,['Discipline']]) # Retorna lista dos esportes\n",
        "  elif (opcao == 5):\n",
        "    lista_mais_homens(df_genero_modalidade)\n",
        "  elif (opcao == 6):\n",
        "    lista_mais_mulheres(df_genero_modalidade)\n",
        "  else:\n",
        "    print(\"Opcao Inexistente\")"
      ],
      "execution_count": 276,
      "outputs": []
    },
    {
      "cell_type": "markdown",
      "metadata": {
        "id": "Bw8D4ocniIYz"
      },
      "source": [
        "## Treinadores"
      ]
    },
    {
      "cell_type": "code",
      "metadata": {
        "id": "LgHI1JEyinVk"
      },
      "source": [
        "# Funções DF Treinadores\n",
        "\n",
        "def treinadores_geral(df_treinadores):\n",
        "\n",
        "  def info_treinadores(df_treinadores): # Informações Gerais\n",
        "    print(\"\\n## Visão geral do Data Frame: Coaches ##\")\n",
        "    print(msg_intro_primeiras_linhas)\n",
        "    print(df_treinadores.head())\n",
        "    print(msg_intro_ultimas_linhas)\n",
        "    print(df_treinadores.tail()) \n",
        "    print(msg_linhas_colunas, df_treinadores.shape)\n",
        "    print(msg_info_geral)\n",
        "    df_treinadores.info()\n",
        "\n",
        "  def pais_mais_treinadores(df_treinadores): # pais com mais treinadores\n",
        "    mais_treinadores = df_treinadores.NOC.value_counts()\n",
        "    print()\n",
        "    print(mais_treinadores[:1])\n",
        "\n",
        "  # chamada das funcoes de menu de opcoes e validacao de entrada\n",
        "  menu_treinadores()\n",
        "  validacao()\n",
        "\n",
        "  if (opcao == 1):\n",
        "    info_treinadores(df_treinadores)\n",
        "  elif(opcao == 2): \n",
        "    print()\n",
        "    print(df_treinadores.groupby(['NOC']).size())\n",
        "  elif(opcao == 3): \n",
        "    pais_mais_treinadores(df_treinadores)\n",
        "  elif (opcao == 4):\n",
        "    print()\n",
        "    print(df_treinadores.groupby(['Discipline']).size().sort_values(ascending=False))\n",
        "  else:\n",
        "    print(\"Opcao Inexistente\")"
      ],
      "execution_count": 277,
      "outputs": []
    },
    {
      "cell_type": "markdown",
      "metadata": {
        "id": "yrnuB1qJkWak"
      },
      "source": [
        "## Times"
      ]
    },
    {
      "cell_type": "code",
      "metadata": {
        "id": "XWRJ0637kb3k"
      },
      "source": [
        "# Funções DF Times\n",
        "\n",
        "def times_geral(df_times):\n",
        "\n",
        "  def info_times(df_times): # Informações Gerais\n",
        "    print(\"\\n## Visão geral do Data Frame: Teams ##\")\n",
        "    print(msg_intro_primeiras_linhas)\n",
        "    print(df_times.head())\n",
        "    print(msg_intro_ultimas_linhas)\n",
        "    print(df_times.tail()) \n",
        "    print(msg_linhas_colunas, df_times.shape)\n",
        "    print(msg_info_geral)\n",
        "    df_times.info()\n",
        "\n",
        "  def times_pais(df_times): #times por esporte de cada país\n",
        "    time_esporte_pais = df_times.groupby(['NOC', 'Discipline']).NOC.size()\n",
        "    print()\n",
        "    print(time_esporte_pais[:50])\n",
        "\n",
        "  # chamada das funcoes de menu de opcoes e validacao de entrada\n",
        "  menu_times()\n",
        "  validacao()\n",
        "\n",
        "  if (opcao == 1):\n",
        "    info_times(df_times)\n",
        "  elif(opcao == 2): \n",
        "    times_pais(df_times)\n",
        "  else:\n",
        "    print(\"Opcao Inexistente\")"
      ],
      "execution_count": 278,
      "outputs": []
    },
    {
      "cell_type": "markdown",
      "metadata": {
        "id": "QUtNw3L2XbTE"
      },
      "source": [
        "## Menu Principal"
      ]
    },
    {
      "cell_type": "code",
      "metadata": {
        "colab": {
          "base_uri": "https://localhost:8080/"
        },
        "id": "m3ZCsHa-RrwL",
        "outputId": "dbae638c-d574-43c2-bf64-45e987397724"
      },
      "source": [
        "# Menu de Seleção\n",
        "\n",
        "def principal():\n",
        "  menu_principal()\n",
        "  validacao()\n",
        "  if (opcao == 1):\n",
        "    atletas_geral(df_atleta)\n",
        "  elif (opcao == 2):\n",
        "    medalhas_geral(df_medalhas)\n",
        "  elif (opcao == 3):\n",
        "    genero_geral(df_genero_modalidade)\n",
        "  elif (opcao == 4):\n",
        "    treinadores_geral(df_treinadores)\n",
        "  elif (opcao == 5):\n",
        "    times_geral(df_times)\n",
        "  else:\n",
        "    print(\"Opcao Inexistente\")\n",
        "\n",
        "principal()"
      ],
      "execution_count": 291,
      "outputs": [
        {
          "output_type": "stream",
          "name": "stdout",
          "text": [
            "### Menu Principal ###\n",
            "1. Atletas\n",
            "2. Medalhas\n",
            "3. Genero e Esportes\n",
            "4. Treinadores\n",
            "5. Times\n",
            "\n",
            "Qual informação deseja visualizar? 3\n",
            "### Menu Genero ###\n",
            "1. Visão Geral do Data Frame\n",
            "2. Total de participantes homens.\n",
            "3. Total de participantes mulheres. \n",
            "4. Lista com esportes participantes.\n",
            "5. Lista de esportes com mais homens que mulheres.\n",
            "6. Lista de esportes com mais mulheres que homens. \n",
            "\n",
            "Qual informação deseja visualizar? 5\n",
            "\n",
            "           Discipline  Male  Female\n",
            "4           Athletics  1072     969\n",
            "5           Badminton    87      86\n",
            "6   Baseball/Softball   144      90\n",
            "9              Boxing   187     102\n",
            "11       Canoe Sprint   126     123\n",
            "15       Cycling Road   131      70\n",
            "16      Cycling Track    99      90\n",
            "18         Equestrian   125      73\n",
            "19            Fencing   108     107\n",
            "20           Football   344     264\n",
            "24               Judo   201     192\n",
            "25             Karate    42      40\n",
            "29             Rowing   265     257\n",
            "30       Rugby Sevens   151     146\n",
            "36           Swimming   418     361\n",
            "39             Tennis    97      94\n",
            "43         Water Polo   146     122\n",
            "44      Weightlifting    99      98\n",
            "45          Wrestling   193      96\n"
          ]
        }
      ]
    },
    {
      "cell_type": "markdown",
      "metadata": {
        "id": "YpoFQvRHd_7N"
      },
      "source": [
        "## Extra - Gráficos"
      ]
    },
    {
      "cell_type": "markdown",
      "metadata": {
        "id": "Fof1PGSqeFte"
      },
      "source": [
        "### Ranking por medalhas totais"
      ]
    },
    {
      "cell_type": "code",
      "metadata": {
        "colab": {
          "base_uri": "https://localhost:8080/",
          "height": 542
        },
        "id": "wFScuohCeFU1",
        "outputId": "f7e20450-99a0-459b-8cb3-a03300ba0b7d"
      },
      "source": [
        "px.bar(df_medalhas[:10], x=\"Team/NOC\", y=\"Total de Medalhas\", title=\"Top 10 Países no número total de medalhas: \", text=\"Total de Medalhas\")"
      ],
      "execution_count": 292,
      "outputs": [
        {
          "output_type": "display_data",
          "data": {
            "text/html": [
              "<html>\n",
              "<head><meta charset=\"utf-8\" /></head>\n",
              "<body>\n",
              "    <div>\n",
              "            <script src=\"https://cdnjs.cloudflare.com/ajax/libs/mathjax/2.7.5/MathJax.js?config=TeX-AMS-MML_SVG\"></script><script type=\"text/javascript\">if (window.MathJax) {MathJax.Hub.Config({SVG: {font: \"STIX-Web\"}});}</script>\n",
              "                <script type=\"text/javascript\">window.PlotlyConfig = {MathJaxConfig: 'local'};</script>\n",
              "        <script src=\"https://cdn.plot.ly/plotly-latest.min.js\"></script>    \n",
              "            <div id=\"72f812a1-7772-4bd0-abce-6f17dbbda2dd\" class=\"plotly-graph-div\" style=\"height:525px; width:100%;\"></div>\n",
              "            <script type=\"text/javascript\">\n",
              "                \n",
              "                    window.PLOTLYENV=window.PLOTLYENV || {};\n",
              "                    \n",
              "                if (document.getElementById(\"72f812a1-7772-4bd0-abce-6f17dbbda2dd\")) {\n",
              "                    Plotly.newPlot(\n",
              "                        '72f812a1-7772-4bd0-abce-6f17dbbda2dd',\n",
              "                        [{\"alignmentgroup\": \"True\", \"hoverlabel\": {\"namelength\": 0}, \"hovertemplate\": \"Team/NOC=%{x}<br>Total de Medalhas=%{text}\", \"legendgroup\": \"\", \"marker\": {\"color\": \"#636efa\"}, \"name\": \"\", \"offsetgroup\": \"\", \"orientation\": \"v\", \"showlegend\": false, \"text\": [113.0, 88.0, 58.0, 65.0, 71.0, 46.0, 36.0, 33.0, 37.0, 40.0], \"textposition\": \"auto\", \"type\": \"bar\", \"x\": [\"United States of America\", \"People's Republic of China\", \"Japan\", \"Great Britain\", \"ROC\", \"Australia\", \"Netherlands\", \"France\", \"Germany\", \"Italy\"], \"xaxis\": \"x\", \"y\": [113, 88, 58, 65, 71, 46, 36, 33, 37, 40], \"yaxis\": \"y\"}],\n",
              "                        {\"barmode\": \"relative\", \"legend\": {\"tracegroupgap\": 0}, \"template\": {\"data\": {\"bar\": [{\"error_x\": {\"color\": \"#2a3f5f\"}, \"error_y\": {\"color\": \"#2a3f5f\"}, \"marker\": {\"line\": {\"color\": \"#E5ECF6\", \"width\": 0.5}}, \"type\": \"bar\"}], \"barpolar\": [{\"marker\": {\"line\": {\"color\": \"#E5ECF6\", \"width\": 0.5}}, \"type\": \"barpolar\"}], \"carpet\": [{\"aaxis\": {\"endlinecolor\": \"#2a3f5f\", \"gridcolor\": \"white\", \"linecolor\": \"white\", \"minorgridcolor\": \"white\", \"startlinecolor\": \"#2a3f5f\"}, \"baxis\": {\"endlinecolor\": \"#2a3f5f\", \"gridcolor\": \"white\", \"linecolor\": \"white\", \"minorgridcolor\": \"white\", \"startlinecolor\": \"#2a3f5f\"}, \"type\": \"carpet\"}], \"choropleth\": [{\"colorbar\": {\"outlinewidth\": 0, \"ticks\": \"\"}, \"type\": \"choropleth\"}], \"contour\": [{\"colorbar\": {\"outlinewidth\": 0, \"ticks\": \"\"}, \"colorscale\": [[0.0, \"#0d0887\"], [0.1111111111111111, \"#46039f\"], [0.2222222222222222, \"#7201a8\"], [0.3333333333333333, \"#9c179e\"], [0.4444444444444444, \"#bd3786\"], [0.5555555555555556, \"#d8576b\"], [0.6666666666666666, \"#ed7953\"], [0.7777777777777778, \"#fb9f3a\"], [0.8888888888888888, \"#fdca26\"], [1.0, \"#f0f921\"]], \"type\": \"contour\"}], \"contourcarpet\": [{\"colorbar\": {\"outlinewidth\": 0, \"ticks\": \"\"}, \"type\": \"contourcarpet\"}], \"heatmap\": [{\"colorbar\": {\"outlinewidth\": 0, \"ticks\": \"\"}, \"colorscale\": [[0.0, \"#0d0887\"], [0.1111111111111111, \"#46039f\"], [0.2222222222222222, \"#7201a8\"], [0.3333333333333333, \"#9c179e\"], [0.4444444444444444, \"#bd3786\"], [0.5555555555555556, \"#d8576b\"], [0.6666666666666666, \"#ed7953\"], [0.7777777777777778, \"#fb9f3a\"], [0.8888888888888888, \"#fdca26\"], [1.0, \"#f0f921\"]], \"type\": \"heatmap\"}], \"heatmapgl\": [{\"colorbar\": {\"outlinewidth\": 0, \"ticks\": \"\"}, \"colorscale\": [[0.0, \"#0d0887\"], [0.1111111111111111, \"#46039f\"], [0.2222222222222222, \"#7201a8\"], [0.3333333333333333, \"#9c179e\"], [0.4444444444444444, \"#bd3786\"], [0.5555555555555556, \"#d8576b\"], [0.6666666666666666, \"#ed7953\"], [0.7777777777777778, \"#fb9f3a\"], [0.8888888888888888, \"#fdca26\"], [1.0, \"#f0f921\"]], \"type\": \"heatmapgl\"}], \"histogram\": [{\"marker\": {\"colorbar\": {\"outlinewidth\": 0, \"ticks\": \"\"}}, \"type\": \"histogram\"}], \"histogram2d\": [{\"colorbar\": {\"outlinewidth\": 0, \"ticks\": \"\"}, \"colorscale\": [[0.0, \"#0d0887\"], [0.1111111111111111, \"#46039f\"], [0.2222222222222222, \"#7201a8\"], [0.3333333333333333, \"#9c179e\"], [0.4444444444444444, \"#bd3786\"], [0.5555555555555556, \"#d8576b\"], [0.6666666666666666, \"#ed7953\"], [0.7777777777777778, \"#fb9f3a\"], [0.8888888888888888, \"#fdca26\"], [1.0, \"#f0f921\"]], \"type\": \"histogram2d\"}], \"histogram2dcontour\": [{\"colorbar\": {\"outlinewidth\": 0, \"ticks\": \"\"}, \"colorscale\": [[0.0, \"#0d0887\"], [0.1111111111111111, \"#46039f\"], [0.2222222222222222, \"#7201a8\"], [0.3333333333333333, \"#9c179e\"], [0.4444444444444444, \"#bd3786\"], [0.5555555555555556, \"#d8576b\"], [0.6666666666666666, \"#ed7953\"], [0.7777777777777778, \"#fb9f3a\"], [0.8888888888888888, \"#fdca26\"], [1.0, \"#f0f921\"]], \"type\": \"histogram2dcontour\"}], \"mesh3d\": [{\"colorbar\": {\"outlinewidth\": 0, \"ticks\": \"\"}, \"type\": \"mesh3d\"}], \"parcoords\": [{\"line\": {\"colorbar\": {\"outlinewidth\": 0, \"ticks\": \"\"}}, \"type\": \"parcoords\"}], \"pie\": [{\"automargin\": true, \"type\": \"pie\"}], \"scatter\": [{\"marker\": {\"colorbar\": {\"outlinewidth\": 0, \"ticks\": \"\"}}, \"type\": \"scatter\"}], \"scatter3d\": [{\"line\": {\"colorbar\": {\"outlinewidth\": 0, \"ticks\": \"\"}}, \"marker\": {\"colorbar\": {\"outlinewidth\": 0, \"ticks\": \"\"}}, \"type\": \"scatter3d\"}], \"scattercarpet\": [{\"marker\": {\"colorbar\": {\"outlinewidth\": 0, \"ticks\": \"\"}}, \"type\": \"scattercarpet\"}], \"scattergeo\": [{\"marker\": {\"colorbar\": {\"outlinewidth\": 0, \"ticks\": \"\"}}, \"type\": \"scattergeo\"}], \"scattergl\": [{\"marker\": {\"colorbar\": {\"outlinewidth\": 0, \"ticks\": \"\"}}, \"type\": \"scattergl\"}], \"scattermapbox\": [{\"marker\": {\"colorbar\": {\"outlinewidth\": 0, \"ticks\": \"\"}}, \"type\": \"scattermapbox\"}], \"scatterpolar\": [{\"marker\": {\"colorbar\": {\"outlinewidth\": 0, \"ticks\": \"\"}}, \"type\": \"scatterpolar\"}], \"scatterpolargl\": [{\"marker\": {\"colorbar\": {\"outlinewidth\": 0, \"ticks\": \"\"}}, \"type\": \"scatterpolargl\"}], \"scatterternary\": [{\"marker\": {\"colorbar\": {\"outlinewidth\": 0, \"ticks\": \"\"}}, \"type\": \"scatterternary\"}], \"surface\": [{\"colorbar\": {\"outlinewidth\": 0, \"ticks\": \"\"}, \"colorscale\": [[0.0, \"#0d0887\"], [0.1111111111111111, \"#46039f\"], [0.2222222222222222, \"#7201a8\"], [0.3333333333333333, \"#9c179e\"], [0.4444444444444444, \"#bd3786\"], [0.5555555555555556, \"#d8576b\"], [0.6666666666666666, \"#ed7953\"], [0.7777777777777778, \"#fb9f3a\"], [0.8888888888888888, \"#fdca26\"], [1.0, \"#f0f921\"]], \"type\": \"surface\"}], \"table\": [{\"cells\": {\"fill\": {\"color\": \"#EBF0F8\"}, \"line\": {\"color\": \"white\"}}, \"header\": {\"fill\": {\"color\": \"#C8D4E3\"}, \"line\": {\"color\": \"white\"}}, \"type\": \"table\"}]}, \"layout\": {\"annotationdefaults\": {\"arrowcolor\": \"#2a3f5f\", \"arrowhead\": 0, \"arrowwidth\": 1}, \"coloraxis\": {\"colorbar\": {\"outlinewidth\": 0, \"ticks\": \"\"}}, \"colorscale\": {\"diverging\": [[0, \"#8e0152\"], [0.1, \"#c51b7d\"], [0.2, \"#de77ae\"], [0.3, \"#f1b6da\"], [0.4, \"#fde0ef\"], [0.5, \"#f7f7f7\"], [0.6, \"#e6f5d0\"], [0.7, \"#b8e186\"], [0.8, \"#7fbc41\"], [0.9, \"#4d9221\"], [1, \"#276419\"]], \"sequential\": [[0.0, \"#0d0887\"], [0.1111111111111111, \"#46039f\"], [0.2222222222222222, \"#7201a8\"], [0.3333333333333333, \"#9c179e\"], [0.4444444444444444, \"#bd3786\"], [0.5555555555555556, \"#d8576b\"], [0.6666666666666666, \"#ed7953\"], [0.7777777777777778, \"#fb9f3a\"], [0.8888888888888888, \"#fdca26\"], [1.0, \"#f0f921\"]], \"sequentialminus\": [[0.0, \"#0d0887\"], [0.1111111111111111, \"#46039f\"], [0.2222222222222222, \"#7201a8\"], [0.3333333333333333, \"#9c179e\"], [0.4444444444444444, \"#bd3786\"], [0.5555555555555556, \"#d8576b\"], [0.6666666666666666, \"#ed7953\"], [0.7777777777777778, \"#fb9f3a\"], [0.8888888888888888, \"#fdca26\"], [1.0, \"#f0f921\"]]}, \"colorway\": [\"#636efa\", \"#EF553B\", \"#00cc96\", \"#ab63fa\", \"#FFA15A\", \"#19d3f3\", \"#FF6692\", \"#B6E880\", \"#FF97FF\", \"#FECB52\"], \"font\": {\"color\": \"#2a3f5f\"}, \"geo\": {\"bgcolor\": \"white\", \"lakecolor\": \"white\", \"landcolor\": \"#E5ECF6\", \"showlakes\": true, \"showland\": true, \"subunitcolor\": \"white\"}, \"hoverlabel\": {\"align\": \"left\"}, \"hovermode\": \"closest\", \"mapbox\": {\"style\": \"light\"}, \"paper_bgcolor\": \"white\", \"plot_bgcolor\": \"#E5ECF6\", \"polar\": {\"angularaxis\": {\"gridcolor\": \"white\", \"linecolor\": \"white\", \"ticks\": \"\"}, \"bgcolor\": \"#E5ECF6\", \"radialaxis\": {\"gridcolor\": \"white\", \"linecolor\": \"white\", \"ticks\": \"\"}}, \"scene\": {\"xaxis\": {\"backgroundcolor\": \"#E5ECF6\", \"gridcolor\": \"white\", \"gridwidth\": 2, \"linecolor\": \"white\", \"showbackground\": true, \"ticks\": \"\", \"zerolinecolor\": \"white\"}, \"yaxis\": {\"backgroundcolor\": \"#E5ECF6\", \"gridcolor\": \"white\", \"gridwidth\": 2, \"linecolor\": \"white\", \"showbackground\": true, \"ticks\": \"\", \"zerolinecolor\": \"white\"}, \"zaxis\": {\"backgroundcolor\": \"#E5ECF6\", \"gridcolor\": \"white\", \"gridwidth\": 2, \"linecolor\": \"white\", \"showbackground\": true, \"ticks\": \"\", \"zerolinecolor\": \"white\"}}, \"shapedefaults\": {\"line\": {\"color\": \"#2a3f5f\"}}, \"ternary\": {\"aaxis\": {\"gridcolor\": \"white\", \"linecolor\": \"white\", \"ticks\": \"\"}, \"baxis\": {\"gridcolor\": \"white\", \"linecolor\": \"white\", \"ticks\": \"\"}, \"bgcolor\": \"#E5ECF6\", \"caxis\": {\"gridcolor\": \"white\", \"linecolor\": \"white\", \"ticks\": \"\"}}, \"title\": {\"x\": 0.05}, \"xaxis\": {\"automargin\": true, \"gridcolor\": \"white\", \"linecolor\": \"white\", \"ticks\": \"\", \"title\": {\"standoff\": 15}, \"zerolinecolor\": \"white\", \"zerolinewidth\": 2}, \"yaxis\": {\"automargin\": true, \"gridcolor\": \"white\", \"linecolor\": \"white\", \"ticks\": \"\", \"title\": {\"standoff\": 15}, \"zerolinecolor\": \"white\", \"zerolinewidth\": 2}}}, \"title\": {\"text\": \"Top 10 Pa\\u00edses no n\\u00famero total de medalhas: \"}, \"xaxis\": {\"anchor\": \"y\", \"domain\": [0.0, 1.0], \"title\": {\"text\": \"Team/NOC\"}}, \"yaxis\": {\"anchor\": \"x\", \"domain\": [0.0, 1.0], \"title\": {\"text\": \"Total de Medalhas\"}}},\n",
              "                        {\"responsive\": true}\n",
              "                    ).then(function(){\n",
              "                            \n",
              "var gd = document.getElementById('72f812a1-7772-4bd0-abce-6f17dbbda2dd');\n",
              "var x = new MutationObserver(function (mutations, observer) {{\n",
              "        var display = window.getComputedStyle(gd).display;\n",
              "        if (!display || display === 'none') {{\n",
              "            console.log([gd, 'removed!']);\n",
              "            Plotly.purge(gd);\n",
              "            observer.disconnect();\n",
              "        }}\n",
              "}});\n",
              "\n",
              "// Listen for the removal of the full notebook cells\n",
              "var notebookContainer = gd.closest('#notebook-container');\n",
              "if (notebookContainer) {{\n",
              "    x.observe(notebookContainer, {childList: true});\n",
              "}}\n",
              "\n",
              "// Listen for the clearing of the current output cell\n",
              "var outputEl = gd.closest('.output');\n",
              "if (outputEl) {{\n",
              "    x.observe(outputEl, {childList: true});\n",
              "}}\n",
              "\n",
              "                        })\n",
              "                };\n",
              "                \n",
              "            </script>\n",
              "        </div>\n",
              "</body>\n",
              "</html>"
            ]
          },
          "metadata": {}
        }
      ]
    },
    {
      "cell_type": "markdown",
      "metadata": {
        "id": "R89gqqKYekED"
      },
      "source": [
        "### Top 10 Países no número de medalhas de Ouro:\n",
        "\n",
        "\n",
        "\n"
      ]
    },
    {
      "cell_type": "code",
      "metadata": {
        "id": "XyJrLJPYRcmR"
      },
      "source": [
        "fig = go.Figure(data=[go.Bar(\n",
        "            x=df_medalhas[\"Team/NOC\"][:10], y=df_medalhas[\"Gold\"][:10],\n",
        "            text=df_medalhas[\"Gold\"],\n",
        "            textposition='auto'\n",
        "            )])\n",
        "\n",
        "fig.update_layout(\n",
        "    title_text=\"Top 10 Países no número de medalhas de Ouro\",\n",
        "    xaxis=dict(\n",
        "        title='Países'),\n",
        "    yaxis=dict(\n",
        "        title='Quantidade de Medalhas'))\n",
        "\n",
        "fig.show()"
      ],
      "execution_count": null,
      "outputs": []
    },
    {
      "cell_type": "markdown",
      "metadata": {
        "id": "oDNlX8oTe0Ee"
      },
      "source": [
        "### Top 10 Países no número de medalhas de Prata:"
      ]
    },
    {
      "cell_type": "code",
      "metadata": {
        "id": "NXOS9M23e4ey"
      },
      "source": [
        "fig = go.Figure(data=[go.Bar(\n",
        "            x=df_medalhas[\"Team/NOC\"][:10], y=df_medalhas[\"Silver\"][:10],\n",
        "            text=df_medalhas[\"Silver\"],\n",
        "            textposition='auto'\n",
        "            )])\n",
        "\n",
        "fig.update_layout(\n",
        "    title_text=\"Top 10 Países no número de medalhas de Prata\",\n",
        "    xaxis=dict(\n",
        "        title='Países'),\n",
        "    yaxis=dict(\n",
        "        title='Quantidade de Medalhas'))\n",
        "\n",
        "fig.show()"
      ],
      "execution_count": null,
      "outputs": []
    },
    {
      "cell_type": "markdown",
      "metadata": {
        "id": "VJiJ0Dtpe7ts"
      },
      "source": [
        "### Top 10 Países no número de medalhas de Bronze:"
      ]
    },
    {
      "cell_type": "code",
      "metadata": {
        "id": "GuJKMqDIe6y0"
      },
      "source": [
        "fig = go.Figure(data=[go.Bar(\n",
        "            x=df_medalhas[\"Team/NOC\"][:10], y=df_medalhas[\"Bronze\"][:10],\n",
        "            text=df_medalhas[\"Bronze\"],\n",
        "            textposition='auto'\n",
        "            )])\n",
        "\n",
        "fig.update_layout(\n",
        "    title_text=\"Top 10 Países no número de medalhas de Bronze\",\n",
        "    xaxis=dict(\n",
        "        title='Países'),\n",
        "    yaxis=dict(\n",
        "        title='Quantidade de Medalhas'))\n",
        "\n",
        "fig.show()"
      ],
      "execution_count": null,
      "outputs": []
    },
    {
      "cell_type": "markdown",
      "metadata": {
        "id": "IgTGmIT5v6uQ"
      },
      "source": [
        "### Quantidade de Homens e Mulheres por Esporte"
      ]
    },
    {
      "cell_type": "code",
      "metadata": {
        "id": "afgcdKSfyv3h"
      },
      "source": [
        "homens = go.Bar(x = df_genero_modalidade['Discipline'],\n",
        "                y = df_genero_modalidade['Male'],\n",
        "                name = 'Homens')\n",
        "mulheres = go.Bar(x = df_genero_modalidade['Discipline'],\n",
        "                y = df_genero_modalidade['Female'],\n",
        "                name = 'Mulheres')\n",
        "\n",
        "data = [homens, mulheres]\n",
        "layout = go.Layout(title = 'Quantidade de Homens e Mulheres por Esporte',\n",
        "                   yaxis = {'title': 'Quantidade'},\n",
        "                   barmode = 'stack')\n",
        "fig = go.Figure(data=data, layout=layout)\n",
        "py.iplot(data)"
      ],
      "execution_count": null,
      "outputs": []
    }
  ]
}